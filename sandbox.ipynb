{
 "cells": [
  {
   "cell_type": "code",
   "execution_count": 2,
   "metadata": {},
   "outputs": [],
   "source": [
    "from pylsl import StreamInfo, StreamInlet, resolve_stream\n"
   ]
  },
  {
   "cell_type": "code",
   "execution_count": 4,
   "metadata": {},
   "outputs": [],
   "source": [
    "streams = resolve_stream()"
   ]
  },
  {
   "cell_type": "code",
   "execution_count": 6,
   "metadata": {},
   "outputs": [
    {
     "name": "stdout",
     "output_type": "stream",
     "text": [
      "<?xml version=\"1.0\"?>\n",
      "<info>\n",
      "\t<name>MuseS-5D97 (00:55:da:b9:5d:97) Accelerometer</name>\n",
      "\t<type>Accelerometer</type>\n",
      "\t<channel_count>3</channel_count>\n",
      "\t<nominal_srate>52</nominal_srate>\n",
      "\t<channel_format>float32</channel_format>\n",
      "\t<source_id>LSLBridge</source_id>\n",
      "\t<version>1.1000000000000001</version>\n",
      "\t<created_at>1398091.6896031001</created_at>\n",
      "\t<uid>17b4bb62-d168-4acf-930c-c90cdab3256f</uid>\n",
      "\t<session_id>default</session_id>\n",
      "\t<hostname>DESKTOP-5M1P7HR</hostname>\n",
      "\t<v4address />\n",
      "\t<v4data_port>16573</v4data_port>\n",
      "\t<v4service_port>16573</v4service_port>\n",
      "\t<v6address />\n",
      "\t<v6data_port>16573</v6data_port>\n",
      "\t<v6service_port>16573</v6service_port>\n",
      "\t<desc />\n",
      "</info>\n",
      "\n",
      "<?xml version=\"1.0\"?>\n",
      "<info>\n",
      "\t<name>MuseS-5D97 (00:55:da:b9:5d:97) PPG</name>\n",
      "\t<type>PPG</type>\n",
      "\t<channel_count>3</channel_count>\n",
      "\t<nominal_srate>64</nominal_srate>\n",
      "\t<channel_format>float32</channel_format>\n",
      "\t<source_id>LSLBridge</source_id>\n",
      "\t<version>1.1000000000000001</version>\n",
      "\t<created_at>1398091.6983363</created_at>\n",
      "\t<uid>1da2fcd8-fda1-48df-b67f-f032489d734e</uid>\n",
      "\t<session_id>default</session_id>\n",
      "\t<hostname>DESKTOP-5M1P7HR</hostname>\n",
      "\t<v4address />\n",
      "\t<v4data_port>16575</v4data_port>\n",
      "\t<v4service_port>16575</v4service_port>\n",
      "\t<v6address />\n",
      "\t<v6data_port>16575</v6data_port>\n",
      "\t<v6service_port>16575</v6service_port>\n",
      "\t<desc />\n",
      "</info>\n",
      "\n",
      "<?xml version=\"1.0\"?>\n",
      "<info>\n",
      "\t<name>MuseS-5D97 (00:55:da:b9:5d:97) Gyroscope</name>\n",
      "\t<type>Gyroscope</type>\n",
      "\t<channel_count>3</channel_count>\n",
      "\t<nominal_srate>52</nominal_srate>\n",
      "\t<channel_format>float32</channel_format>\n",
      "\t<source_id>LSLBridge</source_id>\n",
      "\t<version>1.1000000000000001</version>\n",
      "\t<created_at>1398091.6937326</created_at>\n",
      "\t<uid>e88bf5ba-de3e-47b6-8814-a527ee31ab5e</uid>\n",
      "\t<session_id>default</session_id>\n",
      "\t<hostname>DESKTOP-5M1P7HR</hostname>\n",
      "\t<v4address />\n",
      "\t<v4data_port>16574</v4data_port>\n",
      "\t<v4service_port>16574</v4service_port>\n",
      "\t<v6address />\n",
      "\t<v6data_port>16574</v6data_port>\n",
      "\t<v6service_port>16574</v6service_port>\n",
      "\t<desc />\n",
      "</info>\n",
      "\n",
      "<?xml version=\"1.0\"?>\n",
      "<info>\n",
      "\t<name>MuseS-5D97 (00:55:da:b9:5d:97) EEG</name>\n",
      "\t<type>EEG</type>\n",
      "\t<channel_count>4</channel_count>\n",
      "\t<nominal_srate>256</nominal_srate>\n",
      "\t<channel_format>float32</channel_format>\n",
      "\t<source_id>LSLBridge</source_id>\n",
      "\t<version>1.1000000000000001</version>\n",
      "\t<created_at>1398091.6852988</created_at>\n",
      "\t<uid>faf9d51e-56fb-4fc0-aef9-c1b5e99e637c</uid>\n",
      "\t<session_id>default</session_id>\n",
      "\t<hostname>DESKTOP-5M1P7HR</hostname>\n",
      "\t<v4address />\n",
      "\t<v4data_port>16572</v4data_port>\n",
      "\t<v4service_port>16572</v4service_port>\n",
      "\t<v6address />\n",
      "\t<v6data_port>16572</v6data_port>\n",
      "\t<v6service_port>16572</v6service_port>\n",
      "\t<desc />\n",
      "</info>\n",
      "\n"
     ]
    }
   ],
   "source": [
    "for stream in streams:\n",
    "    print(stream.as_xml())"
   ]
  },
  {
   "cell_type": "code",
   "execution_count": 1,
   "metadata": {},
   "outputs": [],
   "source": [
    "import subprocess"
   ]
  },
  {
   "cell_type": "code",
   "execution_count": 17,
   "metadata": {},
   "outputs": [
    {
     "data": {
      "text/plain": [
       "CompletedProcess(args='start bluemuse:', returncode=0)"
      ]
     },
     "execution_count": 17,
     "metadata": {},
     "output_type": "execute_result"
    }
   ],
   "source": [
    "\n",
    "subprocess.run('start bluemuse:', shell=True)"
   ]
  },
  {
   "cell_type": "code",
   "execution_count": 20,
   "metadata": {},
   "outputs": [
    {
     "data": {
      "text/plain": [
       "'abcdef'"
      ]
     },
     "execution_count": 20,
     "metadata": {},
     "output_type": "execute_result"
    }
   ],
   "source": [
    "x = \"ABC\"\n",
    "x.lower() + \"def\""
   ]
  },
  {
   "cell_type": "code",
   "execution_count": 2,
   "metadata": {},
   "outputs": [],
   "source": [
    "import random"
   ]
  },
  {
   "cell_type": "code",
   "execution_count": 7,
   "metadata": {},
   "outputs": [],
   "source": [
    "import datetime"
   ]
  },
  {
   "cell_type": "code",
   "execution_count": 1,
   "metadata": {},
   "outputs": [
    {
     "data": {
      "text/plain": [
       "'None'"
      ]
     },
     "execution_count": 1,
     "metadata": {},
     "output_type": "execute_result"
    }
   ],
   "source": [
    "str(None)\n"
   ]
  }
 ],
 "metadata": {
  "kernelspec": {
   "display_name": "attention-monitoring-env",
   "language": "python",
   "name": "python3"
  },
  "language_info": {
   "codemirror_mode": {
    "name": "ipython",
    "version": 3
   },
   "file_extension": ".py",
   "mimetype": "text/x-python",
   "name": "python",
   "nbconvert_exporter": "python",
   "pygments_lexer": "ipython3",
   "version": "3.11.3"
  },
  "orig_nbformat": 4
 },
 "nbformat": 4,
 "nbformat_minor": 2
}
