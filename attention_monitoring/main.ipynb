{
 "cells": [
  {
   "cell_type": "code",
   "execution_count": 2,
   "metadata": {},
   "outputs": [],
   "source": [
    "from attention_monitoring import startSession\n",
    "from src.data_analysis.block import GradCPTSession"
   ]
  },
  {
   "cell_type": "code",
   "execution_count": 3,
   "metadata": {},
   "outputs": [
    {
     "name": "stdout",
     "output_type": "stream",
     "text": [
      "\n",
      "Starting experiment:\n",
      "|   session_name : S70_020823_PTiaan\n",
      "|   session_id : 70\n",
      "|   date : 020823\n",
      "|   participant_id : Tiaan\n",
      "|   session_dir : C:\\Users\\HP User\\source\\repos\\attention-monitoring\\attention_monitoring\\src\\data\\gradCPT_sessions\\S70_020823_PTiaan\n",
      "|   num_full_blocks : 2\n",
      "|   do_practice_block : True\n",
      "|   stim_transition_time_ms : 800\n",
      "|   stim_static_time_ms : 400\n",
      "|   stim_diameter : 1000\n",
      "|   full_block_sequence_length : 500\n",
      "|   muse_signals : ['EEG', 'PPG', 'Accelerometer', 'Gyroscope']\n",
      "Setting up the Muse device.\n",
      "['start bluemuse://setting?key=primary_timestamp_format!value=LSL_LOCAL_CLOCK_NATIVE', 'start bluemuse://setting?key=eeg_enabled!value=true', 'start bluemuse://setting?key=ppg_enabled!value=true', 'start bluemuse://setting?key=accelerometer_enabled!value=true', 'start bluemuse://setting?key=gyroscope_enabled!value=true']\n",
      "Starting Bluemuse.\n",
      "Waiting 30 seconds for all desired Muse signals to stream toLSL.\n",
      "WARNING: Not all of the desired Muse signals are streaming to LSL (Waited 30\n",
      "WARNING: seconds).\n",
      "WARNING: Desired Signals: ('EEG', 'PPG', 'Accelerometer', 'Gyroscope')\n",
      "WARNING: Streaming Signals: []\n",
      "Starting LabRecorder\n",
      "Running experiment in MATLAB. This may take a few moments ...\n",
      "Waiting for MATLAB to start: DONE\n",
      "Closing the Muse device.\n",
      "Closing LabRecorder.\n",
      "\n",
      "======LABREC======\n",
      "\n",
      "===OUT===\n",
      "\n",
      "2023-08-02 14:47:10.327 (   0.346s) [        A9333005]      netinterfaces.cpp:36    INFO| netif '{5BFAAA19-BC54-46FE-B4EC-9CE0E9DB8B3D}' (status: 2, multicast: 1\n",
      "2023-08-02 14:47:10.327 (   0.346s) [        A9333005]      netinterfaces.cpp:36    INFO| netif '{5B4F7CFD-B3BB-4D44-B30B-2E9831F36CE6}' (status: 2, multicast: 1\n",
      "2023-08-02 14:47:10.327 (   0.346s) [        A9333005]      netinterfaces.cpp:36    INFO| netif '{3FF4B391-DFFA-44F0-9B39-6E0D3C4879CE}' (status: 1, multicast: 1\n",
      "2023-08-02 14:47:10.327 (   0.346s) [        A9333005]      netinterfaces.cpp:58    INFO| \tIPv6 ifindex 6\n",
      "2023-08-02 14:47:10.327 (   0.346s) [        A9333005]      netinterfaces.cpp:36    INFO| netif '{B945A7B3-514A-4CD2-B171-B1500AF3C135}' (status: 2, multicast: 1\n",
      "2023-08-02 14:47:10.327 (   0.346s) [        A9333005]      netinterfaces.cpp:36    INFO| netif '{9E4889F1-4AB2-11E8-9473-806E6F6E6963}' (status: 1, multicast: 1\n",
      "2023-08-02 14:47:10.327 (   0.346s) [        A9333005]      netinterfaces.cpp:58    INFO| \tIPv6 ifindex 1\n",
      "2023-08-02 14:47:10.327 (   0.346s) [        A9333005]         api_config.cpp:270   INFO| Loaded default config\n",
      "2023-08-02 14:48:17.376 (  67.395s) [        64ABE528]   inlet_connection.cpp:54    WARN| The stream named 'stimuli_marker_stream' can't be recovered automatically if its provider crashes because it doesn't have a unique source ID\n",
      "2023-08-02 14:48:17.377 (  67.396s) [        C67F4C5E]   inlet_connection.cpp:54    WARN| The stream named 'response_marker_stream' can't be recovered automatically if its provider crashes because it doesn't have a unique source ID\n",
      "2023-08-02 14:48:17.377 (  67.396s) [        618E6494]             common.cpp:65    INFO| git:5eded5c1d381a1a5fbbcce105edfaa53f009176a/branch:refs/tags/v1.16.0/build:Release/compiler:MSVC-19.0.24245.0/link:SHARED\n",
      "Opened the stream Opened the stream response_marker_stream.stimuli_marker_stream.\n",
      "\n",
      "Opened the stream MuseS-5D97 (00:55:da:b9:5d:97) Accelerometer.\n",
      "Opened the stream MuseS-5D97 (00:55:da:b9:5d:97) PPG.\n",
      "Opened the stream MuseS-5D97 (00:55:da:b9:5d:97) Gyroscope.\n",
      "Opened the stream MuseS-5D97 (00:55:da:b9:5d:97) Telemetry.\n",
      "Opened the stream MuseS-5D97 (00:55:da:b9:5d:97) EEG.\n",
      "Received header for stream response_marker_stream.\n",
      "Received header for stream stimuli_marker_stream.\n",
      "Received header for stream MuseS-5D97 (00:55:da:b9:5d:97) PPG.\n",
      "Received header for stream MuseS-5D97 (00:55:da:b9:5d:97) EEG.\n",
      "Received header for stream MuseS-5D97 (00:55:da:b9:5d:97) Accelerometer.\n",
      "Received header for stream MuseS-5D97 (00:55:da:b9:5d:97) Telemetry.\n",
      "Received header for stream MuseS-5D97 (00:55:da:b9:5d:97) Gyroscope.\n",
      "Started data collection for stream Started data collection for stream MuseS-5D97 (00:55:da:b9:5d:97) GyroscopeMuseS-5D97 (00:55:da:b9:5d:97) Accelerometer..\n",
      "\n",
      "Started data collection for stream Started data collection for stream response_marker_stream.MuseS-5D97 (00:55:da:b9:5d:97) PPG.\n",
      "\n",
      "Started data collection for stream Started data collection for stream MuseS-5D97 (00:55:da:b9:5d:97) EEGstimuli_marker_stream..\n",
      "\n",
      "Started data collection for stream MuseS-5D97 (00:55:da:b9:5d:97) Telemetry.\n",
      "2023-08-02 14:49:46.622 ( 156.641s) [R_MuseS-5D97 (  ]      data_receiver.cpp:342    ERR| Stream transmission broke off (Input stream error.); re-connecting...\n",
      "2023-08-02 14:49:46.622 ( 156.641s) [R_MuseS-5D97 (  ]      data_receiver.cpp:342    ERR| Stream transmission broke off (Input stream error.); re-connecting...\n",
      "2023-08-02 14:49:46.622 ( 156.641s) [R_MuseS-5D97 (  ]      data_receiver.cpp:342    ERR| Stream transmission broke off (Input stream error.); re-connecting...\n",
      "2023-08-02 14:49:46.623 ( 156.641s) [R_MuseS-5D97 (  ]      data_receiver.cpp:342    ERR| Stream transmission broke off (Input stream error.); re-connecting...\n",
      "2023-08-02 14:49:46.625 ( 156.643s) [R_MuseS-5D97 (  ]      data_receiver.cpp:342    ERR| Stream transmission broke off (Input stream error.); re-connecting...\n",
      "Offsets thread is finished\n",
      "Offsets thread is finished\n",
      "Offsets thread is finishedOffsets thread is finished\n",
      "\n",
      "Offsets thread is finished\n",
      "\n",
      "\n",
      "===ERR===\n",
      "\n",
      "None\n",
      "\n",
      "==================\n",
      "\n",
      "C:\\Users\\HP User\\source\\repos\\attention-monitoring\\attention_monitoring\\src\\data\\gradCPT_sessions\\S70_020823_PTiaan\\S70_020823_PTiaan_full_block_1_data.xdf\n"
     ]
    }
   ],
   "source": [
    "data = startSession(participantID=\"Tiaan\")"
   ]
  }
 ],
 "metadata": {
  "kernelspec": {
   "display_name": "attention-monitoring-KOwqJ4jP-py3.10",
   "language": "python",
   "name": "python3"
  },
  "language_info": {
   "codemirror_mode": {
    "name": "ipython",
    "version": 3
   },
   "file_extension": ".py",
   "mimetype": "text/x-python",
   "name": "python",
   "nbconvert_exporter": "python",
   "pygments_lexer": "ipython3",
   "version": "3.10.9"
  },
  "orig_nbformat": 4
 },
 "nbformat": 4,
 "nbformat_minor": 2
}
